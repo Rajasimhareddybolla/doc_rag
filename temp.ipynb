{
 "cells": [
  {
   "cell_type": "code",
   "execution_count": 2,
   "metadata": {},
   "outputs": [],
   "source": [
    "    from langchain.prompts import PromptTemplate\n",
    "    template = PromptTemplate(\n",
    "        input_variables = [\"query\",\"documents_summary\"],\n",
    "        template = \"\"\"\n",
    "            Query: {query}\n",
    "            GitHub Documents Summary:\n",
    "            {documents_summary}\n",
    "\n",
    "            Based on the above documents, what information is relevant to the query? Provide a detailed explanation or action plan.\n",
    "            \"\"\"\n",
    "    )"
   ]
  },
  {
   "cell_type": "code",
   "execution_count": 4,
   "metadata": {},
   "outputs": [
    {
     "data": {
      "text/plain": [
       "StringPromptValue(text='\\n        Query: ahi\\n        GitHub Documents Summary:\\n        hello\\n\\n        Based on the above documents, what information is relevant to the query? Provide a detailed explanation or action plan.\\n        ')"
      ]
     },
     "execution_count": 4,
     "metadata": {},
     "output_type": "execute_result"
    }
   ],
   "source": [
    "template.format_prompt(query = \"ahi\" ,documents_summary =\"hello\" )"
   ]
  },
  {
   "cell_type": "code",
   "execution_count": null,
   "metadata": {},
   "outputs": [],
   "source": []
  }
 ],
 "metadata": {
  "kernelspec": {
   "display_name": "Python 3",
   "language": "python",
   "name": "python3"
  },
  "language_info": {
   "codemirror_mode": {
    "name": "ipython",
    "version": 3
   },
   "file_extension": ".py",
   "mimetype": "text/x-python",
   "name": "python",
   "nbconvert_exporter": "python",
   "pygments_lexer": "ipython3",
   "version": "3.12.1"
  }
 },
 "nbformat": 4,
 "nbformat_minor": 2
}
